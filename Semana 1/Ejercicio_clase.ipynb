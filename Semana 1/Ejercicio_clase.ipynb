{
 "cells": [
  {
   "cell_type": "code",
   "execution_count": 4,
   "metadata": {},
   "outputs": [
    {
     "name": "stdout",
     "output_type": "stream",
     "text": [
      "                                       Title        Date Month Fiscal Year  \\\n",
      "0                Me and You-kelele Storytime  07/01/2016   Jul       FY 17   \n",
      "1  MC Infants & Toddlers Bilingual Storytime  07/01/2016   Jul       FY 17   \n",
      "2                               lego weekend  07/01/2016   Jul       FY 17   \n",
      "3                              LEGO Playtime  07/01/2016   Jul       FY 17   \n",
      "4                                  LEGO Crew  07/01/2016   Jul       FY 17   \n",
      "\n",
      "                            Library     Primary Event Type  \\\n",
      "0  Noyes Library for Young Children              Storytime   \n",
      "1                      Gaithersburg            Z_Visits In   \n",
      "2                     Silver Spring  Science & Math (STEM)   \n",
      "3                         Twinbrook             Makerspace   \n",
      "4                      Gaithersburg  Science & Math (STEM)   \n",
      "\n",
      "        Event Type Option 1    Event Type Option 2  \\\n",
      "0  ACE - All Children Excel                    NaN   \n",
      "1                 Storytime                    NaN   \n",
      "2  ACE - All Children Excel                    NaN   \n",
      "3  ACE - All Children Excel  Science & Math (STEM)   \n",
      "4  ACE - All Children Excel             Makerspace   \n",
      "\n",
      "            Primary Age Group          Age Group Option 1 Age Group Option 2  \\\n",
      "0         Babies and Toddlers  Preschool and Kindergarten                NaN   \n",
      "1         Babies and Toddlers  Preschool and Kindergarten                NaN   \n",
      "2  Preschool and Kindergarten       Elementary School Age                NaN   \n",
      "3       Elementary School Age  Preschool and Kindergarten                NaN   \n",
      "4       Elementary School Age  Preschool and Kindergarten                NaN   \n",
      "\n",
      "                                         Description Internal Notes  \\\n",
      "0  Come Sing, Read, and Rhyme With Us! Stories an...            NaN   \n",
      "1  open bilingual storytime hosted in the library...            NaN   \n",
      "2                                 friday 2pm- sunday            NaN   \n",
      "3  Drop-in for an open session of imaginative con...            NaN   \n",
      "4  Come showcase your creativity at this free dro...            NaN   \n",
      "\n",
      "  Published Status  Attendance  \n",
      "0              Yes        65.0  \n",
      "1               No        90.0  \n",
      "2               No         NaN  \n",
      "3              Yes        17.0  \n",
      "4              Yes        32.0  \n"
     ]
    }
   ],
   "source": [
    "import pandas as pd\n",
    "\n",
    "file_path = 'All_Children_Excel_Program_Attendance_20240525.csv'\n",
    "\n",
    "df = pd.read_csv(file_path)\n",
    "\n",
    "print(df.head())\n"
   ]
  },
  {
   "cell_type": "code",
   "execution_count": 12,
   "metadata": {},
   "outputs": [
    {
     "name": "stdout",
     "output_type": "stream",
     "text": [
      "First few rows of the DataFrame:\n",
      "                                       Title        Date Month Fiscal Year  \\\n",
      "0                Me and You-kelele Storytime  07/01/2016   Jul       FY 17   \n",
      "1  MC Infants & Toddlers Bilingual Storytime  07/01/2016   Jul       FY 17   \n",
      "2                               lego weekend  07/01/2016   Jul       FY 17   \n",
      "3                              LEGO Playtime  07/01/2016   Jul       FY 17   \n",
      "4                                  LEGO Crew  07/01/2016   Jul       FY 17   \n",
      "\n",
      "                            Library     Primary Event Type  \\\n",
      "0  Noyes Library for Young Children              Storytime   \n",
      "1                      Gaithersburg            Z_Visits In   \n",
      "2                     Silver Spring  Science & Math (STEM)   \n",
      "3                         Twinbrook             Makerspace   \n",
      "4                      Gaithersburg  Science & Math (STEM)   \n",
      "\n",
      "        Event Type Option 1    Event Type Option 2  \\\n",
      "0  ACE - All Children Excel                    NaN   \n",
      "1                 Storytime                    NaN   \n",
      "2  ACE - All Children Excel                    NaN   \n",
      "3  ACE - All Children Excel  Science & Math (STEM)   \n",
      "4  ACE - All Children Excel             Makerspace   \n",
      "\n",
      "            Primary Age Group          Age Group Option 1 Age Group Option 2  \\\n",
      "0         Babies and Toddlers  Preschool and Kindergarten                NaN   \n",
      "1         Babies and Toddlers  Preschool and Kindergarten                NaN   \n",
      "2  Preschool and Kindergarten       Elementary School Age                NaN   \n",
      "3       Elementary School Age  Preschool and Kindergarten                NaN   \n",
      "4       Elementary School Age  Preschool and Kindergarten                NaN   \n",
      "\n",
      "                                         Description Internal Notes  \\\n",
      "0  Come Sing, Read, and Rhyme With Us! Stories an...            NaN   \n",
      "1  open bilingual storytime hosted in the library...            NaN   \n",
      "2                                 friday 2pm- sunday            NaN   \n",
      "3  Drop-in for an open session of imaginative con...            NaN   \n",
      "4  Come showcase your creativity at this free dro...            NaN   \n",
      "\n",
      "  Published Status  Attendance  \n",
      "0              Yes        65.0  \n",
      "1               No        90.0  \n",
      "2               No         NaN  \n",
      "3              Yes        17.0  \n",
      "4              Yes        32.0  \n",
      "\n",
      "Missing values (NaNs) in each column:\n",
      "Title                     0\n",
      "Date                      0\n",
      "Month                     0\n",
      "Fiscal Year               0\n",
      "Library                   0\n",
      "Primary Event Type        0\n",
      "Event Type Option 1       0\n",
      "Event Type Option 2    1448\n",
      "Primary Age Group         0\n",
      "Age Group Option 1      794\n",
      "Age Group Option 2     1714\n",
      "Description               0\n",
      "Internal Notes         1765\n",
      "Published Status          0\n",
      "Attendance              369\n",
      "dtype: int64\n",
      "\n",
      "Empty strings in each column:\n",
      "Title                  0\n",
      "Date                   0\n",
      "Month                  0\n",
      "Fiscal Year            0\n",
      "Library                0\n",
      "Primary Event Type     0\n",
      "Event Type Option 1    0\n",
      "Event Type Option 2    0\n",
      "Primary Age Group      0\n",
      "Age Group Option 1     0\n",
      "Age Group Option 2     0\n",
      "Description            0\n",
      "Internal Notes         0\n",
      "Published Status       0\n",
      "Attendance             0\n",
      "dtype: int64\n",
      "\n",
      "Errors in numeric columns:\n",
      "Attendance: 0 errors\n",
      "\n",
      "Summary of issues:\n",
      "Title: 0 missing, 0 empty, 0 errors\n",
      "Date: 0 missing, 0 empty, 0 errors\n",
      "Month: 0 missing, 0 empty, 0 errors\n",
      "Fiscal Year: 0 missing, 0 empty, 0 errors\n",
      "Library: 0 missing, 0 empty, 0 errors\n",
      "Primary Event Type: 0 missing, 0 empty, 0 errors\n",
      "Event Type Option 1: 0 missing, 0 empty, 0 errors\n",
      "Event Type Option 2: 1448 missing, 0 empty, 0 errors\n",
      "Primary Age Group: 0 missing, 0 empty, 0 errors\n",
      "Age Group Option 1: 794 missing, 0 empty, 0 errors\n",
      "Age Group Option 2: 1714 missing, 0 empty, 0 errors\n",
      "Description: 0 missing, 0 empty, 0 errors\n",
      "Internal Notes: 1765 missing, 0 empty, 0 errors\n",
      "Published Status: 0 missing, 0 empty, 0 errors\n",
      "Attendance: 369 missing, 0 empty, 0 errors\n"
     ]
    }
   ],
   "source": [
    "import pandas as pd\n",
    "\n",
    "file_path = 'All_Children_Excel_Program_Attendance_20240525.csv'\n",
    "\n",
    "df = pd.read_csv(file_path)\n",
    "\n",
    "print(\"First few rows of the DataFrame:\")\n",
    "print(df.head())\n",
    "\n",
    "print(\"\\nMissing values (NaNs) in each column:\")\n",
    "print(df.isna().sum())\n",
    "\n",
    "print(\"\\nEmpty strings in each column:\")\n",
    "print((df == '').sum())\n",
    "\n",
    "def check_errors(series):\n",
    "    errors = pd.to_numeric(series, errors='coerce').isna() & series.notna()\n",
    "    return errors.sum()\n",
    "\n",
    "print(\"\\nErrors in numeric columns:\")\n",
    "numeric_columns = df.select_dtypes(include=['number']).columns\n",
    "for col in numeric_columns:\n",
    "    print(f\"{col}: {check_errors(df[col])} errors\")\n",
    "\n",
    "print(\"\\nSummary of issues:\")\n",
    "for col in df.columns:\n",
    "    missing_count = df[col].isna().sum()\n",
    "    empty_count = (df[col] == '').sum()\n",
    "    error_count = check_errors(df[col]) if col in numeric_columns else 0\n",
    "    print(f\"{col}: {missing_count} missing, {empty_count} empty, {error_count} errors\")\n"
   ]
  },
  {
   "cell_type": "code",
   "execution_count": 13,
   "metadata": {},
   "outputs": [
    {
     "name": "stdout",
     "output_type": "stream",
     "text": [
      "Número total de filas: 1781\n",
      "Número de filas con valores nulos: 1781\n",
      "Porcentaje de filas con valores nulos: 100.00%\n"
     ]
    }
   ],
   "source": [
    "import pandas as pd\n",
    "\n",
    "file_path = 'All_Children_Excel_Program_Attendance_20240525.csv'\n",
    "\n",
    "df = pd.read_csv(file_path)\n",
    "\n",
    "total_rows = df.shape[0]\n",
    "\n",
    "# Verificar cuántas filas contienen valores nulos\n",
    "rows_with_nulls = df.isnull().any(axis=1).sum()\n",
    "\n",
    "# Calcular el porcentaje de filas con valores nulos\n",
    "percentage_rows_with_nulls = (rows_with_nulls / total_rows) * 100\n",
    "\n",
    "print(f\"Número total de filas: {total_rows}\")\n",
    "print(f\"Número de filas con valores nulos: {rows_with_nulls}\")\n",
    "print(f\"Porcentaje de filas con valores nulos: {percentage_rows_with_nulls:.2f}%\")\n"
   ]
  },
  {
   "cell_type": "code",
   "execution_count": 14,
   "metadata": {},
   "outputs": [
    {
     "name": "stdout",
     "output_type": "stream",
     "text": [
      "Columnas del DataFrame:\n",
      "Index(['Title', 'Date', 'Month', 'Fiscal Year', 'Library',\n",
      "       'Primary Event Type', 'Event Type Option 1', 'Event Type Option 2',\n",
      "       'Primary Age Group', 'Age Group Option 1', 'Age Group Option 2',\n",
      "       'Description', 'Internal Notes', 'Published Status', 'Attendance'],\n",
      "      dtype='object')\n",
      "\n",
      "Columnas y sus tipos de datos:\n",
      "Title                   object\n",
      "Date                    object\n",
      "Month                   object\n",
      "Fiscal Year             object\n",
      "Library                 object\n",
      "Primary Event Type      object\n",
      "Event Type Option 1     object\n",
      "Event Type Option 2     object\n",
      "Primary Age Group       object\n",
      "Age Group Option 1      object\n",
      "Age Group Option 2      object\n",
      "Description             object\n",
      "Internal Notes          object\n",
      "Published Status        object\n",
      "Attendance             float64\n",
      "dtype: object\n"
     ]
    }
   ],
   "source": [
    "import pandas as pd\n",
    "\n",
    "file_path = 'All_Children_Excel_Program_Attendance_20240525.csv'\n",
    "\n",
    "df = pd.read_csv(file_path)\n",
    "\n",
    "# Mostrar las columnas del DataFrame\n",
    "print(\"Columnas del DataFrame:\")\n",
    "print(df.columns)\n",
    "\n",
    "# Mostrar las columnas y sus tipos de datos\n",
    "print(\"\\nColumnas y sus tipos de datos:\")\n",
    "print(df.dtypes)\n"
   ]
  },
  {
   "cell_type": "code",
   "execution_count": 15,
   "metadata": {},
   "outputs": [
    {
     "name": "stdout",
     "output_type": "stream",
     "text": [
      "Columnas restantes en el DataFrame:\n",
      "Index(['Month', 'Library', 'Primary Event Type', 'Event Type Option 1',\n",
      "       'Primary Age Group', 'Published Status', 'Attendance'],\n",
      "      dtype='object')\n"
     ]
    }
   ],
   "source": [
    "columns_to_drop = [\"Date\", \"Title\", \"Fiscal Year\", \"Event Type Option 2\", \n",
    "                   \"Age Group Option 2\", \"Age Group Option 1\", \"Description\", \n",
    "                   \"Internal Notes\"]\n",
    "\n",
    "# Eliminar las columnas\n",
    "df = df.drop(columns=columns_to_drop)\n",
    "\n",
    "# Verificar que las columnas han sido eliminadas\n",
    "print(\"Columnas restantes en el DataFrame:\")\n",
    "print(df.columns)"
   ]
  },
  {
   "cell_type": "code",
   "execution_count": 16,
   "metadata": {},
   "outputs": [
    {
     "name": "stdout",
     "output_type": "stream",
     "text": [
      "  Month                           Library     Primary Event Type  \\\n",
      "0   Jul  Noyes Library for Young Children              Storytime   \n",
      "1   Jul                      Gaithersburg            Z_Visits In   \n",
      "2   Jul                     Silver Spring  Science & Math (STEM)   \n",
      "3   Jul                         Twinbrook             Makerspace   \n",
      "4   Jul                      Gaithersburg  Science & Math (STEM)   \n",
      "\n",
      "        Event Type Option 1           Primary Age Group Published Status  \\\n",
      "0  ACE - All Children Excel         Babies and Toddlers              Yes   \n",
      "1                 Storytime         Babies and Toddlers               No   \n",
      "2  ACE - All Children Excel  Preschool and Kindergarten               No   \n",
      "3  ACE - All Children Excel       Elementary School Age              Yes   \n",
      "4  ACE - All Children Excel       Elementary School Age              Yes   \n",
      "\n",
      "   Attendance  \n",
      "0        65.0  \n",
      "1        90.0  \n",
      "2         NaN  \n",
      "3        17.0  \n",
      "4        32.0  \n"
     ]
    }
   ],
   "source": [
    "print(df.head())"
   ]
  },
  {
   "cell_type": "code",
   "execution_count": 17,
   "metadata": {},
   "outputs": [
    {
     "name": "stdout",
     "output_type": "stream",
     "text": [
      "Número total de filas: 1781\n",
      "Número de filas con valores nulos: 369\n",
      "Porcentaje de filas con valores nulos: 20.72%\n"
     ]
    }
   ],
   "source": [
    "# Verificar el número de filas totales\n",
    "total_rows = df.shape[0]\n",
    "\n",
    "# Verificar cuántas filas contienen valores nulos\n",
    "rows_with_nulls = df.isnull().any(axis=1).sum()\n",
    "\n",
    "# Calcular el porcentaje de filas con valores nulos\n",
    "percentage_rows_with_nulls = (rows_with_nulls / total_rows) * 100\n",
    "\n",
    "print(f\"Número total de filas: {total_rows}\")\n",
    "print(f\"Número de filas con valores nulos: {rows_with_nulls}\")\n",
    "print(f\"Porcentaje de filas con valores nulos: {percentage_rows_with_nulls:.2f}%\")"
   ]
  },
  {
   "cell_type": "code",
   "execution_count": 18,
   "metadata": {},
   "outputs": [
    {
     "name": "stdout",
     "output_type": "stream",
     "text": [
      "First few rows of the DataFrame:\n",
      "  Month                           Library     Primary Event Type  \\\n",
      "0   Jul  Noyes Library for Young Children              Storytime   \n",
      "1   Jul                      Gaithersburg            Z_Visits In   \n",
      "2   Jul                     Silver Spring  Science & Math (STEM)   \n",
      "3   Jul                         Twinbrook             Makerspace   \n",
      "4   Jul                      Gaithersburg  Science & Math (STEM)   \n",
      "\n",
      "        Event Type Option 1           Primary Age Group Published Status  \\\n",
      "0  ACE - All Children Excel         Babies and Toddlers              Yes   \n",
      "1                 Storytime         Babies and Toddlers               No   \n",
      "2  ACE - All Children Excel  Preschool and Kindergarten               No   \n",
      "3  ACE - All Children Excel       Elementary School Age              Yes   \n",
      "4  ACE - All Children Excel       Elementary School Age              Yes   \n",
      "\n",
      "   Attendance  \n",
      "0        65.0  \n",
      "1        90.0  \n",
      "2         NaN  \n",
      "3        17.0  \n",
      "4        32.0  \n",
      "\n",
      "Missing values (NaNs) in each column:\n",
      "Month                    0\n",
      "Library                  0\n",
      "Primary Event Type       0\n",
      "Event Type Option 1      0\n",
      "Primary Age Group        0\n",
      "Published Status         0\n",
      "Attendance             369\n",
      "dtype: int64\n",
      "\n",
      "Empty strings in each column:\n",
      "Month                  0\n",
      "Library                0\n",
      "Primary Event Type     0\n",
      "Event Type Option 1    0\n",
      "Primary Age Group      0\n",
      "Published Status       0\n",
      "Attendance             0\n",
      "dtype: int64\n",
      "\n",
      "Errors in numeric columns:\n",
      "Attendance: 0 errors\n",
      "\n",
      "Summary of issues:\n",
      "Month: 0 missing, 0 empty, 0 errors\n",
      "Library: 0 missing, 0 empty, 0 errors\n",
      "Primary Event Type: 0 missing, 0 empty, 0 errors\n",
      "Event Type Option 1: 0 missing, 0 empty, 0 errors\n",
      "Primary Age Group: 0 missing, 0 empty, 0 errors\n",
      "Published Status: 0 missing, 0 empty, 0 errors\n",
      "Attendance: 369 missing, 0 empty, 0 errors\n"
     ]
    }
   ],
   "source": [
    "# Display the first few rows of the DataFrame\n",
    "print(\"First few rows of the DataFrame:\")\n",
    "print(df.head())\n",
    "\n",
    "# Check for missing values (NaNs)\n",
    "print(\"\\nMissing values (NaNs) in each column:\")\n",
    "print(df.isna().sum())\n",
    "\n",
    "# Check for empty strings\n",
    "print(\"\\nEmpty strings in each column:\")\n",
    "print((df == '').sum())\n",
    "\n",
    "# Check for errors (for simplicity, let's assume errors are non-numeric values in numeric columns)\n",
    "def check_errors(series):\n",
    "    errors = pd.to_numeric(series, errors='coerce').isna() & series.notna()\n",
    "    return errors.sum()\n",
    "\n",
    "print(\"\\nErrors in numeric columns:\")\n",
    "numeric_columns = df.select_dtypes(include=['number']).columns\n",
    "for col in numeric_columns:\n",
    "    print(f\"{col}: {check_errors(df[col])} errors\")\n",
    "\n",
    "# Summary of missing, empty, and error counts\n",
    "print(\"\\nSummary of issues:\")\n",
    "for col in df.columns:\n",
    "    missing_count = df[col].isna().sum()\n",
    "    empty_count = (df[col] == '').sum()\n",
    "    error_count = check_errors(df[col]) if col in numeric_columns else 0\n",
    "    print(f\"{col}: {missing_count} missing, {empty_count} empty, {error_count} errors\")"
   ]
  },
  {
   "cell_type": "code",
   "execution_count": 19,
   "metadata": {},
   "outputs": [
    {
     "data": {
      "image/png": "[encoded data removed]",
      "text/plain": [
       "<Figure size 1200x600 with 2 Axes>"
      ]
     },
     "metadata": {},
     "output_type": "display_data"
    },
    {
     "name": "stdout",
     "output_type": "stream",
     "text": [
      "Media de Attendance: 38.857648725212464\n",
      "Mediana de Attendance: 34.0\n"
     ]
    }
   ],
   "source": [
    "import pandas as pd\n",
    "import matplotlib.pyplot as plt\n",
    "import seaborn as sns\n",
    "\n",
    "\n",
    "\n",
    "# Ver distribución de la columna 'Attendance'\n",
    "plt.figure(figsize=(12, 6))\n",
    "\n",
    "plt.subplot(1, 2, 1)\n",
    "sns.histplot(df['Attendance'].dropna(), kde=True)\n",
    "plt.title('Distribución de Attendance')\n",
    "\n",
    "plt.subplot(1, 2, 2)\n",
    "sns.boxplot(x=df['Attendance'].dropna())\n",
    "plt.title('Boxplot de Attendance')\n",
    "\n",
    "plt.show()\n",
    "\n",
    "# Calcular la media y la mediana\n",
    "mean_attendance = df['Attendance'].mean()\n",
    "median_attendance = df['Attendance'].median()\n",
    "\n",
    "print(f\"Media de Attendance: {mean_attendance}\")\n",
    "print(f\"Mediana de Attendance: {median_attendance}\")\n"
   ]
  },
  {
   "cell_type": "code",
   "execution_count": 44,
   "metadata": {},
   "outputs": [
    {
     "name": "stdout",
     "output_type": "stream",
     "text": [
      "Primeras filas del DataFrame después de la imputación:\n",
      "  Month                           Library     Primary Event Type  \\\n",
      "0   Jul  Noyes Library for Young Children              Storytime   \n",
      "1   Jul                      Gaithersburg            Z_Visits In   \n",
      "2   Jul                     Silver Spring  Science & Math (STEM)   \n",
      "3   Jul                         Twinbrook             Makerspace   \n",
      "4   Jul                      Gaithersburg  Science & Math (STEM)   \n",
      "\n",
      "        Event Type Option 1           Primary Age Group Published Status  \\\n",
      "0  ACE - All Children Excel         Babies and Toddlers              Yes   \n",
      "1                 Storytime         Babies and Toddlers               No   \n",
      "2  ACE - All Children Excel  Preschool and Kindergarten               No   \n",
      "3  ACE - All Children Excel       Elementary School Age              Yes   \n",
      "4  ACE - All Children Excel       Elementary School Age              Yes   \n",
      "\n",
      "   Attendance  \n",
      "0        65.0  \n",
      "1        90.0  \n",
      "2        34.0  \n",
      "3        17.0  \n",
      "4        32.0  \n",
      "\n",
      "Resumen de problemas después de la imputación:\n",
      "Month: 0 missing, 0 empty, 0 errors\n",
      "Library: 0 missing, 0 empty, 0 errors\n",
      "Primary Event Type: 0 missing, 0 empty, 0 errors\n",
      "Event Type Option 1: 0 missing, 0 empty, 0 errors\n",
      "Primary Age Group: 0 missing, 0 empty, 0 errors\n",
      "Published Status: 0 missing, 0 empty, 0 errors\n",
      "Attendance: 0 missing, 0 empty, 0 errors\n"
     ]
    }
   ],
   "source": [
    "# Imputar la columna 'Attendance' con la mediana\n",
    "df['Attendance'] = df['Attendance'].fillna(df['Attendance'].median())\n",
    "\n",
    "# Verificar las primeras filas del DataFrame\n",
    "print(\"Primeras filas del DataFrame después de la imputación:\")\n",
    "print(df.head())\n",
    "\n",
    "# Verificar que no haya valores nulos en 'Attendance'\n",
    "missing_values_summary = df.isnull().sum()\n",
    "print(\"\\nResumen de problemas después de la imputación:\")\n",
    "for column in df.columns:\n",
    "    print(f\"{column}: {missing_values_summary[column]} missing, 0 empty, 0 errors\")\n"
   ]
  },
  {
   "cell_type": "code",
   "execution_count": 45,
   "metadata": {},
   "outputs": [
    {
     "name": "stdout",
     "output_type": "stream",
     "text": [
      "Primeras filas del DataFrame después de la imputación:\n",
      "  Month                           Library     Primary Event Type  \\\n",
      "0   Jul  Noyes Library for Young Children              Storytime   \n",
      "1   Jul                      Gaithersburg            Z_Visits In   \n",
      "2   Jul                     Silver Spring  Science & Math (STEM)   \n",
      "3   Jul                         Twinbrook             Makerspace   \n",
      "4   Jul                      Gaithersburg  Science & Math (STEM)   \n",
      "\n",
      "        Event Type Option 1           Primary Age Group Published Status  \\\n",
      "0  ACE - All Children Excel         Babies and Toddlers              Yes   \n",
      "1                 Storytime         Babies and Toddlers               No   \n",
      "2  ACE - All Children Excel  Preschool and Kindergarten               No   \n",
      "3  ACE - All Children Excel       Elementary School Age              Yes   \n",
      "4  ACE - All Children Excel       Elementary School Age              Yes   \n",
      "\n",
      "   Attendance  \n",
      "0        65.0  \n",
      "1        90.0  \n",
      "2        34.0  \n",
      "3        17.0  \n",
      "4        32.0  \n",
      "\n",
      "Resumen de problemas después de la imputación:\n",
      "Month: 0 missing, 0 empty, 0 errors\n",
      "Library: 0 missing, 0 empty, 0 errors\n",
      "Primary Event Type: 0 missing, 0 empty, 0 errors\n",
      "Event Type Option 1: 0 missing, 0 empty, 0 errors\n",
      "Primary Age Group: 0 missing, 0 empty, 0 errors\n",
      "Published Status: 0 missing, 0 empty, 0 errors\n",
      "Attendance: 0 missing, 0 empty, 0 errors\n"
     ]
    }
   ],
   "source": [
    "# Verificar las primeras filas del DataFrame\n",
    "print(\"Primeras filas del DataFrame después de la imputación:\")\n",
    "print(df.head())\n",
    "\n",
    "# Verificar que no haya valores nulos en 'Attendance'\n",
    "missing_values_summary = df.isnull().sum()\n",
    "print(\"\\nResumen de problemas después de la imputación:\")\n",
    "for column in df.columns:\n",
    "    print(f\"{column}: {missing_values_summary[column]} missing, 0 empty, 0 errors\")\n"
   ]
  },
  {
   "cell_type": "code",
   "execution_count": 46,
   "metadata": {},
   "outputs": [
    {
     "name": "stdout",
     "output_type": "stream",
     "text": [
      "Primeras filas del DataFrame después de la imputación:\n",
      "  Month                           Library     Primary Event Type  \\\n",
      "0   Jul  Noyes Library for Young Children              Storytime   \n",
      "1   Jul                      Gaithersburg            Z_Visits In   \n",
      "2   Jul                     Silver Spring  Science & Math (STEM)   \n",
      "3   Jul                         Twinbrook             Makerspace   \n",
      "4   Jul                      Gaithersburg  Science & Math (STEM)   \n",
      "\n",
      "        Event Type Option 1           Primary Age Group Published Status  \\\n",
      "0  ACE - All Children Excel         Babies and Toddlers              Yes   \n",
      "1                 Storytime         Babies and Toddlers               No   \n",
      "2  ACE - All Children Excel  Preschool and Kindergarten               No   \n",
      "3  ACE - All Children Excel       Elementary School Age              Yes   \n",
      "4  ACE - All Children Excel       Elementary School Age              Yes   \n",
      "\n",
      "   Attendance  \n",
      "0        65.0  \n",
      "1        90.0  \n",
      "2        34.0  \n",
      "3        17.0  \n",
      "4        32.0  \n",
      "\n",
      "Resumen de problemas después de la imputación:\n",
      "Month: 0 missing, 0 empty, 0 errors\n",
      "Library: 0 missing, 0 empty, 0 errors\n",
      "Primary Event Type: 0 missing, 0 empty, 0 errors\n",
      "Event Type Option 1: 0 missing, 0 empty, 0 errors\n",
      "Primary Age Group: 0 missing, 0 empty, 0 errors\n",
      "Published Status: 0 missing, 0 empty, 0 errors\n",
      "Attendance: 0 missing, 0 empty, 0 errors\n"
     ]
    }
   ],
   "source": [
    "# Verificar las primeras filas del DataFrame\n",
    "print(\"Primeras filas del DataFrame después de la imputación:\")\n",
    "print(df.head())\n",
    "\n",
    "# Verificar que no haya valores nulos en 'Attendance'\n",
    "missing_values_summary = df.isnull().sum()\n",
    "print(\"\\nResumen de problemas después de la imputación:\")\n",
    "for column in df.columns:\n",
    "    print(f\"{column}: {missing_values_summary[column]} missing, 0 empty, 0 errors\")"
   ]
  },
  {
   "cell_type": "code",
   "execution_count": 47,
   "metadata": {},
   "outputs": [
    {
     "name": "stdout",
     "output_type": "stream",
     "text": [
      "Index(['Month', 'Library', 'Primary Event Type', 'Event Type Option 1',\n",
      "       'Primary Age Group', 'Published Status', 'Attendance'],\n",
      "      dtype='object')\n"
     ]
    }
   ],
   "source": [
    "print(df.columns)"
   ]
  },
  {
   "cell_type": "code",
   "execution_count": 48,
   "metadata": {},
   "outputs": [
    {
     "name": "stdout",
     "output_type": "stream",
     "text": [
      "      Month  Library  Primary Event Type  Event Type Option 1  \\\n",
      "0         5       10                   9                    0   \n",
      "1         5        5                  11                    1   \n",
      "2         5       13                   7                    0   \n",
      "3         5       14                   4                    0   \n",
      "4         5        5                   7                    0   \n",
      "...     ...      ...                 ...                  ...   \n",
      "1776      6       11                   9                    0   \n",
      "1777      6        5                  11                    1   \n",
      "1778      6       11                   7                    0   \n",
      "1779      6       14                   4                    0   \n",
      "1780      6        5                   7                    0   \n",
      "\n",
      "      Primary Age Group  Published Status  Attendance  \n",
      "0                     1                 1        65.0  \n",
      "1                     1                 0        90.0  \n",
      "2                     3                 0        34.0  \n",
      "3                     2                 1        17.0  \n",
      "4                     2                 1        32.0  \n",
      "...                 ...               ...         ...  \n",
      "1776                  2                 1         9.0  \n",
      "1777                  1                 0        30.0  \n",
      "1778                  2                 1        23.0  \n",
      "1779                  2                 1        34.0  \n",
      "1780                  2                 1        27.0  \n",
      "\n",
      "[1781 rows x 7 columns]\n"
     ]
    }
   ],
   "source": [
    "import pandas as pd\n",
    "from sklearn.preprocessing import LabelEncoder\n",
    "\n",
    "\n",
    "# Crear instancias de LabelEncoder\n",
    "label_encoder_library = LabelEncoder()\n",
    "label_encoder_primary_event_type = LabelEncoder()\n",
    "label_encoder_event_type_option_1 = LabelEncoder()\n",
    "label_encoder_primary_age_group = LabelEncoder()\n",
    "label_encoder_month = LabelEncoder()\n",
    "label_encoder_published_status = LabelEncoder()\n",
    "\n",
    "# Aplicar Label Encoding a cada columna categórica\n",
    "df['Library'] = label_encoder_library.fit_transform(df['Library'])\n",
    "df['Primary Event Type'] = label_encoder_primary_event_type.fit_transform(df['Primary Event Type'])\n",
    "df['Event Type Option 1'] = label_encoder_event_type_option_1.fit_transform(df['Event Type Option 1'])\n",
    "df['Primary Age Group'] = label_encoder_primary_age_group.fit_transform(df['Primary Age Group'])\n",
    "df['Month'] = label_encoder_month.fit_transform(df['Month'])\n",
    "df['Published Status'] = label_encoder_published_status.fit_transform(df['Published Status'])\n",
    "\n",
    "# Mostrar el DataFrame transformado\n",
    "print(df)\n"
   ]
  },
  {
   "cell_type": "code",
   "execution_count": 49,
   "metadata": {},
   "outputs": [
    {
     "name": "stdout",
     "output_type": "stream",
     "text": [
      "                        Month   Library  Primary Event Type  \\\n",
      "Month                1.000000 -0.025743           -0.010965   \n",
      "Library             -0.025743  1.000000           -0.096579   \n",
      "Primary Event Type  -0.010965 -0.096579            1.000000   \n",
      "Event Type Option 1  0.005288 -0.007658           -0.018932   \n",
      "Primary Age Group    0.035819 -0.074243           -0.152100   \n",
      "Published Status    -0.008745  0.104149            0.244883   \n",
      "Attendance           0.019837 -0.072144            0.269274   \n",
      "\n",
      "                     Event Type Option 1  Primary Age Group  Published Status  \\\n",
      "Month                           0.005288           0.035819         -0.008745   \n",
      "Library                        -0.007658          -0.074243          0.104149   \n",
      "Primary Event Type             -0.018932          -0.152100          0.244883   \n",
      "Event Type Option 1             1.000000          -0.205945         -0.216186   \n",
      "Primary Age Group              -0.205945           1.000000          0.050734   \n",
      "Published Status               -0.216186           0.050734          1.000000   \n",
      "Attendance                     -0.046017          -0.101197          0.109643   \n",
      "\n",
      "                     Attendance  \n",
      "Month                  0.019837  \n",
      "Library               -0.072144  \n",
      "Primary Event Type     0.269274  \n",
      "Event Type Option 1   -0.046017  \n",
      "Primary Age Group     -0.101197  \n",
      "Published Status       0.109643  \n",
      "Attendance             1.000000  \n"
     ]
    },
    {
     "data": {
      "image/png": "[encoded data removed]",
      "text/plain": [
       "<Figure size 1000x800 with 2 Axes>"
      ]
     },
     "metadata": {},
     "output_type": "display_data"
    }
   ],
   "source": [
    "import pandas as pd\n",
    "import seaborn as sns\n",
    "import matplotlib.pyplot as plt\n",
    "\n",
    "\n",
    "# Calcular la matriz de correlación\n",
    "correlation_matrix = df.corr()\n",
    "\n",
    "# Mostrar la matriz de correlación\n",
    "print(correlation_matrix)\n",
    "\n",
    "# Visualizar la matriz de correlación\n",
    "plt.figure(figsize=(10, 8))\n",
    "sns.heatmap(correlation_matrix, annot=True, cmap='coolwarm', fmt='.2f', linewidths=0.5)\n",
    "plt.title('Matriz de Correlación')\n",
    "plt.show()\n"
   ]
  },
  {
   "cell_type": "code",
   "execution_count": 50,
   "metadata": {},
   "outputs": [
    {
     "name": "stdout",
     "output_type": "stream",
     "text": [
      "Entrenamiento con 'Primary Event Type' Solamente:\n",
      "MSE: 542.6060857607872\n",
      "MAE: 16.987157503688568\n",
      "R2: 0.07942574834944838\n",
      "\n",
      "Prueba con 'Primary Event Type' Solamente:\n",
      "MSE: 647.0304543840784\n",
      "MAE: 18.868311788231093\n",
      "R2: 0.04748057423179153\n"
     ]
    }
   ],
   "source": [
    "import pandas as pd\n",
    "from sklearn.model_selection import train_test_split\n",
    "from sklearn.linear_model import LinearRegression\n",
    "from sklearn.metrics import mean_squared_error, mean_absolute_error, r2_score\n",
    "\n",
    "\n",
    "\n",
    "# Dividir el DataFrame en características (X) y objetivo (y)\n",
    "X = df[['Primary Event Type']]  # Solo 'Primary Event Type'\n",
    "y = df['Attendance']\n",
    "\n",
    "# Dividir los datos en conjuntos de entrenamiento y prueba\n",
    "X_train, X_test, y_train, y_test = train_test_split(X, y, test_size=0.2, random_state=42)\n",
    "\n",
    "# Seleccionar y entrenar un modelo (Regresión Lineal en este caso)\n",
    "model = LinearRegression()\n",
    "model.fit(X_train, y_train)\n",
    "\n",
    "# Hacer predicciones\n",
    "y_pred_train = model.predict(X_train)\n",
    "y_pred_test = model.predict(X_test)\n",
    "\n",
    "# Evaluar el modelo\n",
    "mse_train = mean_squared_error(y_train, y_pred_train)\n",
    "mae_train = mean_absolute_error(y_train, y_pred_train)\n",
    "r2_train = r2_score(y_train, y_pred_train)\n",
    "\n",
    "mse_test = mean_squared_error(y_test, y_pred_test)\n",
    "mae_test = mean_absolute_error(y_test, y_pred_test)\n",
    "r2_test = r2_score(y_test, y_pred_test)\n",
    "\n",
    "# Imprimir las métricas de evaluación\n",
    "print(\"Entrenamiento con 'Primary Event Type' Solamente:\")\n",
    "print(f\"MSE: {mse_train}\")\n",
    "print(f\"MAE: {mae_train}\")\n",
    "print(f\"R2: {r2_train}\")\n",
    "\n",
    "print(\"\\nPrueba con 'Primary Event Type' Solamente:\")\n",
    "print(f\"MSE: {mse_test}\")\n",
    "print(f\"MAE: {mae_test}\")\n",
    "print(f\"R2: {r2_test}\")\n"
   ]
  },
  {
   "cell_type": "code",
   "execution_count": 70,
   "metadata": {},
   "outputs": [
    {
     "name": "stdout",
     "output_type": "stream",
     "text": [
      "Entrenamiento con 'Primary Event Type' Solamente:\n",
      "MSE: 542.6060857607872\n",
      "MAE: 16.987157503688568\n",
      "R2: 0.07942574834944838\n",
      "\n",
      "Prueba con 'Primary Event Type' Solamente:\n",
      "MSE: 647.0304543840784\n",
      "MAE: 18.868311788231093\n",
      "R2: 0.04748057423179153\n"
     ]
    },
    {
     "data": {
      "image/png": "[encoded data removed]",
      "text/plain": [
       "<Figure size 640x480 with 1 Axes>"
      ]
     },
     "metadata": {},
     "output_type": "display_data"
    }
   ],
   "source": [
    "import pandas as pd\n",
    "from sklearn.model_selection import train_test_split\n",
    "from sklearn.linear_model import LinearRegression\n",
    "from sklearn.metrics import mean_squared_error, mean_absolute_error, r2_score\n",
    "import matplotlib.pyplot as plt\n",
    "\n",
    "\n",
    "\n",
    "# Dividir el DataFrame en características (X) y objetivo (y)\n",
    "X = df[['Primary Event Type']]  # Solo 'Primary Event Type'\n",
    "y = df['Attendance']\n",
    "\n",
    "# Dividir los datos en conjuntos de entrenamiento y prueba\n",
    "X_train, X_test, y_train, y_test = train_test_split(X, y, test_size=0.2, random_state=42)\n",
    "\n",
    "# Seleccionar y entrenar un modelo (Regresión Lineal en este caso)\n",
    "model = LinearRegression()\n",
    "model.fit(X_train, y_train)\n",
    "\n",
    "# Hacer predicciones\n",
    "y_pred_train = model.predict(X_train)\n",
    "y_pred_test = model.predict(X_test)\n",
    "\n",
    "# Evaluar el modelo\n",
    "mse_train = mean_squared_error(y_train, y_pred_train)\n",
    "mae_train = mean_absolute_error(y_train, y_pred_train)\n",
    "r2_train = r2_score(y_train, y_pred_train)\n",
    "\n",
    "mse_test = mean_squared_error(y_test, y_pred_test)\n",
    "mae_test = mean_absolute_error(y_test, y_pred_test)\n",
    "r2_test = r2_score(y_test, y_pred_test)\n",
    "\n",
    "# Imprimir las métricas de evaluación\n",
    "print(\"Entrenamiento con 'Primary Event Type' Solamente:\")\n",
    "print(f\"MSE: {mse_train}\")\n",
    "print(f\"MAE: {mae_train}\")\n",
    "print(f\"R2: {r2_train}\")\n",
    "\n",
    "print(\"\\nPrueba con 'Primary Event Type' Solamente:\")\n",
    "print(f\"MSE: {mse_test}\")\n",
    "print(f\"MAE: {mae_test}\")\n",
    "print(f\"R2: {r2_test}\")\n",
    "\n",
    "# Visualizar los resultados del conjunto de prueba\n",
    "plt.scatter(X_test, y_test, color='gray', label='Datos de prueba')\n",
    "plt.plot(X_test, y_pred_test, color='red', label='Predicciones')\n",
    "plt.xlabel('Primary Event Type')\n",
    "plt.ylabel('Attendance')\n",
    "plt.title('Predicciones de Attendance usando Primary Event Type')\n",
    "plt.legend()\n",
    "plt.show()\n"
   ]
  },
  {
   "cell_type": "code",
   "execution_count": 51,
   "metadata": {},
   "outputs": [
    {
     "name": "stdout",
     "output_type": "stream",
     "text": [
      "Entrenamiento con 'Primary Event Type' y 'Published Status':\n",
      "MSE: 542.1932876339755\n",
      "MAE: 17.11322282573368\n",
      "R2: 0.0801260931053307\n",
      "\n",
      "Prueba con 'Primary Event Type' y 'Published Status':\n",
      "MSE: 643.5703059179161\n",
      "MAE: 18.976806208361605\n",
      "R2: 0.05257439726242308\n"
     ]
    }
   ],
   "source": [
    "# Dividir el DataFrame en características (X) y objetivo (y)\n",
    "X = df[['Primary Event Type', 'Published Status']]  # 'Primary Event Type' y 'Published Status'\n",
    "y = df['Attendance']\n",
    "\n",
    "# Dividir los datos en conjuntos de entrenamiento y prueba\n",
    "X_train, X_test, y_train, y_test = train_test_split(X, y, test_size=0.2, random_state=42)\n",
    "\n",
    "# Seleccionar y entrenar un modelo (Regresión Lineal en este caso)\n",
    "model = LinearRegression()\n",
    "model.fit(X_train, y_train)\n",
    "\n",
    "# Hacer predicciones\n",
    "y_pred_train = model.predict(X_train)\n",
    "y_pred_test = model.predict(X_test)\n",
    "\n",
    "# Evaluar el modelo\n",
    "mse_train = mean_squared_error(y_train, y_pred_train)\n",
    "mae_train = mean_absolute_error(y_train, y_pred_train)\n",
    "r2_train = r2_score(y_train, y_pred_train)\n",
    "\n",
    "mse_test = mean_squared_error(y_test, y_pred_test)\n",
    "mae_test = mean_absolute_error(y_test, y_pred_test)\n",
    "r2_test = r2_score(y_test, y_pred_test)\n",
    "\n",
    "# Imprimir las métricas de evaluación\n",
    "print(\"Entrenamiento con 'Primary Event Type' y 'Published Status':\")\n",
    "print(f\"MSE: {mse_train}\")\n",
    "print(f\"MAE: {mae_train}\")\n",
    "print(f\"R2: {r2_train}\")\n",
    "\n",
    "print(\"\\nPrueba con 'Primary Event Type' y 'Published Status':\")\n",
    "print(f\"MSE: {mse_test}\")\n",
    "print(f\"MAE: {mae_test}\")\n",
    "print(f\"R2: {r2_test}\")\n"
   ]
  },
  {
   "cell_type": "code",
   "execution_count": 52,
   "metadata": {},
   "outputs": [
    {
     "name": "stdout",
     "output_type": "stream",
     "text": [
      "Entrenamiento con 'Primary Event Type' Solamente (Polinómico de Grado 1):\n",
      "MSE: 529.9847253807887\n",
      "MAE: 16.70521589411041\n",
      "R2: 0.10083888707298139\n",
      "\n",
      "Prueba con 'Primary Event Type' Solamente (Polinómico de Grado 1):\n",
      "MSE: 629.9577814824814\n",
      "MAE: 18.50320986254133\n",
      "R2: 0.07261393925096626\n"
     ]
    }
   ],
   "source": [
    "from sklearn.preprocessing import PolynomialFeatures\n",
    "\n",
    "# Dividir el DataFrame en características (X) y objetivo (y)\n",
    "X = df[['Primary Event Type']]  # Solo 'Primary Event Type'\n",
    "y = df['Attendance']\n",
    "\n",
    "# Crear instancias de PolynomialFeatures para un modelo polinómico de grado 1\n",
    "poly_features = PolynomialFeatures(degree=2)\n",
    "X_poly = poly_features.fit_transform(X)\n",
    "\n",
    "# Dividir los datos en conjuntos de entrenamiento y prueba\n",
    "X_train, X_test, y_train, y_test = train_test_split(X_poly, y, test_size=0.2, random_state=42)\n",
    "\n",
    "# Seleccionar y entrenar un modelo (Regresión Lineal en este caso)\n",
    "model = LinearRegression()\n",
    "model.fit(X_train, y_train)\n",
    "\n",
    "# Hacer predicciones\n",
    "y_pred_train = model.predict(X_train)\n",
    "y_pred_test = model.predict(X_test)\n",
    "\n",
    "# Evaluar el modelo\n",
    "mse_train = mean_squared_error(y_train, y_pred_train)\n",
    "mae_train = mean_absolute_error(y_train, y_pred_train)\n",
    "r2_train = r2_score(y_train, y_pred_train)\n",
    "\n",
    "mse_test = mean_squared_error(y_test, y_pred_test)\n",
    "mae_test = mean_absolute_error(y_test, y_pred_test)\n",
    "r2_test = r2_score(y_test, y_pred_test)\n",
    "\n",
    "# Imprimir las métricas de evaluación\n",
    "print(\"Entrenamiento con 'Primary Event Type' Solamente (Polinómico de Grado 1):\")\n",
    "print(f\"MSE: {mse_train}\")\n",
    "print(f\"MAE: {mae_train}\")\n",
    "print(f\"R2: {r2_train}\")\n",
    "\n",
    "print(\"\\nPrueba con 'Primary Event Type' Solamente (Polinómico de Grado 1):\")\n",
    "print(f\"MSE: {mse_test}\")\n",
    "print(f\"MAE: {mae_test}\")\n",
    "print(f\"R2: {r2_test}\")\n"
   ]
  },
  {
   "cell_type": "code",
   "execution_count": 76,
   "metadata": {},
   "outputs": [
    {
     "name": "stdout",
     "output_type": "stream",
     "text": [
      "Entrenamiento con 'Primary Event Type' y 'Published Status' (Polinómico de Grado 1):\n",
      "MSE: 441.94120870866345\n",
      "MAE: 14.314427427069834\n",
      "R2: 0.2502116947138756\n",
      "\n",
      "Prueba con 'Primary Event Type' y 'Published Status' (Polinómico de Grado 1):\n",
      "MSE: 487.40721704222534\n",
      "MAE: 15.294212994609243\n",
      "R2: 0.28246832997330185\n"
     ]
    }
   ],
   "source": [
    "# Dividir el DataFrame en características (X) y objetivo (y)\n",
    "X = df[['Primary Event Type', 'Published Status']]  # 'Primary Event Type' y 'Published Status'\n",
    "y = df['Attendance']\n",
    "\n",
    "# Crear instancias de PolynomialFeatures para un modelo polinómico de grado 1\n",
    "poly_features = PolynomialFeatures(degree=5)\n",
    "X_poly = poly_features.fit_transform(X)\n",
    "\n",
    "# Dividir los datos en conjuntos de entrenamiento y prueba\n",
    "X_train, X_test, y_train, y_test = train_test_split(X_poly, y, test_size=0.2, random_state=42)\n",
    "\n",
    "# Seleccionar y entrenar un modelo (Regresión Lineal en este caso)\n",
    "model = LinearRegression()\n",
    "model.fit(X_train, y_train)\n",
    "\n",
    "# Hacer predicciones\n",
    "y_pred_train = model.predict(X_train)\n",
    "y_pred_test = model.predict(X_test)\n",
    "\n",
    "# Evaluar el modelo\n",
    "mse_train = mean_squared_error(y_train, y_pred_train)\n",
    "mae_train = mean_absolute_error(y_train, y_pred_train)\n",
    "r2_train = r2_score(y_train, y_pred_train)\n",
    "\n",
    "mse_test = mean_squared_error(y_test, y_pred_test)\n",
    "mae_test = mean_absolute_error(y_test, y_pred_test)\n",
    "r2_test = r2_score(y_test, y_pred_test)\n",
    "\n",
    "# Imprimir las métricas de evaluación\n",
    "print(\"Entrenamiento con 'Primary Event Type' y 'Published Status' (Polinómico de Grado 1):\")\n",
    "print(f\"MSE: {mse_train}\")\n",
    "print(f\"MAE: {mae_train}\")\n",
    "print(f\"R2: {r2_train}\")\n",
    "\n",
    "print(\"\\nPrueba con 'Primary Event Type' y 'Published Status' (Polinómico de Grado 1):\")\n",
    "print(f\"MSE: {mse_test}\")\n",
    "print(f\"MAE: {mae_test}\")\n",
    "print(f\"R2: {r2_test}\")\n"
   ]
  },
  {
   "cell_type": "code",
   "execution_count": 68,
   "metadata": {},
   "outputs": [
    {
     "ename": "NameError",
     "evalue": "name 'df_helados' is not defined",
     "output_type": "error",
     "traceback": [
      "\u001b[0;31m---------------------------------------------------------------------------\u001b[0m",
      "\u001b[0;31mNameError\u001b[0m                                 Traceback (most recent call last)",
      "Cell \u001b[0;32mIn[68], line 12\u001b[0m\n\u001b[1;32m      6\u001b[0m \u001b[38;5;28;01mimport\u001b[39;00m \u001b[38;5;21;01mnumpy\u001b[39;00m \u001b[38;5;28;01mas\u001b[39;00m \u001b[38;5;21;01mnp\u001b[39;00m\n\u001b[1;32m      8\u001b[0m \u001b[38;5;66;03m# Supongo que df_helados ya está definido y contiene las columnas \"Temperature\" y \"Revenue\"\u001b[39;00m\n\u001b[1;32m      9\u001b[0m \u001b[38;5;66;03m# df_helados = pd.DataFrame(...)  # Aquí deberías definir tu DataFrame\u001b[39;00m\n\u001b[1;32m     10\u001b[0m \n\u001b[1;32m     11\u001b[0m \u001b[38;5;66;03m# Extrayendo la información del dataset\u001b[39;00m\n\u001b[0;32m---> 12\u001b[0m X \u001b[38;5;241m=\u001b[39m \u001b[43mdf_helados\u001b[49m[[\u001b[38;5;124m\"\u001b[39m\u001b[38;5;124mTemperature\u001b[39m\u001b[38;5;124m\"\u001b[39m]]\n\u001b[1;32m     13\u001b[0m y \u001b[38;5;241m=\u001b[39m df_helados[\u001b[38;5;124m\"\u001b[39m\u001b[38;5;124mRevenue\u001b[39m\u001b[38;5;124m\"\u001b[39m]\n\u001b[1;32m     15\u001b[0m \u001b[38;5;66;03m# Particionando en dos conjuntos _train y _test\u001b[39;00m\n",
      "\u001b[0;31mNameError\u001b[0m: name 'df_helados' is not defined"
     ]
    }
   ],
   "source": [
    "import pandas as pd\n",
    "from sklearn.model_selection import train_test_split\n",
    "from sklearn.linear_model import LinearRegression\n",
    "from sklearn.metrics import mean_squared_error, mean_absolute_error, r2_score\n",
    "import matplotlib.pyplot as plt\n",
    "import numpy as np\n",
    "\n",
    "# Supongo que df_helados ya está definido y contiene las columnas \"Temperature\" y \"Revenue\"\n",
    "# df_helados = pd.DataFrame(...)  # Aquí deberías definir tu DataFrame\n",
    "\n",
    "# Extrayendo la información del dataset\n",
    "X = df_helados[[\"Temperature\"]]\n",
    "y = df_helados[\"Revenue\"]\n",
    "\n",
    "# Particionando en dos conjuntos _train y _test\n",
    "X_train, X_test, y_train, y_test = train_test_split(X, y, test_size=0.25, random_state=42)\n",
    "\n",
    "# Crear el modelo\n",
    "regressor = LinearRegression(fit_intercept=True)\n",
    "\n",
    "# Entrenarlo con los datos\n",
    "regressor.fit(X_train, y_train)\n",
    "\n",
    "# Mostrar los parámetros del modelo\n",
    "print(f\"La pendiente del modelo (B) es: {regressor.coef_[0]}, el intercepto (A) es: {regressor.intercept_}\")\n",
    "\n",
    "# Hacer predicciones sobre el conjunto de prueba\n",
    "y_pred = regressor.predict(X_test)\n",
    "\n",
    "# Evaluar el modelo\n",
    "mse = mean_squared_error(y_test, y_pred)\n",
    "rmse = np.sqrt(mse)\n",
    "mae = mean_absolute_error(y_test, y_pred)\n",
    "r2 = r2_score(y_test, y_pred)\n",
    "\n",
    "print(f\"Mean Squared Error (MSE): {mse}\")\n",
    "print(f\"Root Mean Squared Error (RMSE): {rmse}\")\n",
    "print(f\"Mean Absolute Error (MAE): {mae}\")\n",
    "print(f\"Coefficient of Determination (R²): {r2}\")\n",
    "\n",
    "# Visualizar los resultados del conjunto de prueba\n",
    "plt.scatter(X_test, y_test, color='gray', label='Datos de prueba')\n",
    "plt.plot(X_test, y_pred, color='red', label='Predicciones')\n",
    "plt.xlabel('Temperatura [ºC]')\n",
    "plt.ylabel('Ingresos [USD]')\n",
    "plt.title('Ingresos por ventas de helados respecto a la temperatura (test data)')\n",
    "plt.legend()\n",
    "plt.show()\n"
   ]
  },
  {
   "cell_type": "code",
   "execution_count": 60,
   "metadata": {},
   "outputs": [
    {
     "name": "stdout",
     "output_type": "stream",
     "text": [
      "Predicción de asistencia: 40.76420910100786\n"
     ]
    },
    {
     "name": "stderr",
     "output_type": "stream",
     "text": [
      "/home/jaime/.local/lib/python3.10/site-packages/sklearn/base.py:493: UserWarning: X does not have valid feature names, but LinearRegression was fitted with feature names\n",
      "  warnings.warn(\n"
     ]
    }
   ],
   "source": [
    "import pandas as pd\n",
    "from sklearn.linear_model import LinearRegression\n",
    "\n",
    "# Suponiendo que el DataFrame df ya está definido y contiene la información\n",
    "# df = pd.DataFrame(...)\n",
    "\n",
    "# Seleccionar las características (X) y el objetivo (y)\n",
    "X = df[['Primary Event Type', 'Published Status']]\n",
    "y = df['Attendance']\n",
    "\n",
    "# Entrenar el modelo\n",
    "model = LinearRegression()\n",
    "model.fit(X, y)\n",
    "\n",
    "# Función para predecir la asistencia\n",
    "def predecir_asistencia(primary_event_type, published_status):\n",
    "    # Convertir las variables categóricas a códigos numéricos si es necesario\n",
    "    primary_event_type_code = label_encoder_primary_event_type.transform([primary_event_type])[0]\n",
    "    published_status_code = label_encoder_published_status.transform([published_status])[0]\n",
    "    \n",
    "    # Realizar la predicción\n",
    "    prediction = model.predict([[primary_event_type_code, published_status_code]])\n",
    "    return prediction[0]\n",
    "\n",
    "# Ejemplo de uso\n",
    "primary_event_type_input = input(\"Ingresa el tipo de evento primario: \")\n",
    "published_status_input = input(\"¿El evento está publicado? (yes/no): \")\n",
    "\n",
    "# Realizar la predicción\n",
    "prediction = predecir_asistencia(primary_event_type_input, published_status_input)\n",
    "print(f\"Predicción de asistencia: {prediction}\")\n"
   ]
  },
  {
   "cell_type": "code",
   "execution_count": 79,
   "metadata": {},
   "outputs": [
    {
     "name": "stdout",
     "output_type": "stream",
     "text": [
      "Entrenamiento con 'Primary Event Type' y 'Published Status' (Polinómico de Grado 5):\n",
      "MSE: 441.94120870866345\n",
      "MAE: 14.314427427069834\n",
      "R2: 0.2502116947138756\n",
      "\n",
      "Prueba con 'Primary Event Type' y 'Published Status' (Polinómico de Grado 5):\n",
      "MSE: 487.40721704222534\n",
      "MAE: 15.294212994609243\n",
      "R2: 0.28246832997330185\n"
     ]
    },
    {
     "name": "stderr",
     "output_type": "stream",
     "text": [
      "/home/jaime/.local/lib/python3.10/site-packages/sklearn/base.py:493: UserWarning: X does not have valid feature names, but PolynomialFeatures was fitted with feature names\n",
      "  warnings.warn(\n"
     ]
    },
    {
     "data": {
      "image/png": "[encoded data removed]",
      "text/plain": [
       "<Figure size 640x480 with 1 Axes>"
      ]
     },
     "metadata": {},
     "output_type": "display_data"
    }
   ],
   "source": [
    "import pandas as pd\n",
    "from sklearn.model_selection import train_test_split\n",
    "from sklearn.linear_model import LinearRegression\n",
    "from sklearn.preprocessing import PolynomialFeatures\n",
    "from sklearn.metrics import mean_squared_error, mean_absolute_error, r2_score\n",
    "import matplotlib.pyplot as plt\n",
    "import numpy as np\n",
    "\n",
    "\n",
    "\n",
    "# Dividir el DataFrame en características (X) y objetivo (y)\n",
    "X = df[['Primary Event Type', 'Published Status']]  # 'Primary Event Type' y 'Published Status'\n",
    "y = df['Attendance']\n",
    "\n",
    "# Crear instancias de PolynomialFeatures para un modelo polinómico de grado 5\n",
    "poly_features = PolynomialFeatures(degree=5)\n",
    "X_poly = poly_features.fit_transform(X)\n",
    "\n",
    "# Dividir los datos en conjuntos de entrenamiento y prueba\n",
    "X_train, X_test, y_train, y_test = train_test_split(X_poly, y, test_size=0.2, random_state=42)\n",
    "\n",
    "# Seleccionar y entrenar un modelo (Regresión Lineal en este caso)\n",
    "model = LinearRegression()\n",
    "model.fit(X_train, y_train)\n",
    "\n",
    "# Hacer predicciones\n",
    "y_pred_train = model.predict(X_train)\n",
    "y_pred_test = model.predict(X_test)\n",
    "\n",
    "# Evaluar el modelo\n",
    "mse_train = mean_squared_error(y_train, y_pred_train)\n",
    "mae_train = mean_absolute_error(y_train, y_pred_train)\n",
    "r2_train = r2_score(y_train, y_pred_train)\n",
    "\n",
    "mse_test = mean_squared_error(y_test, y_pred_test)\n",
    "mae_test = mean_absolute_error(y_test, y_pred_test)\n",
    "r2_test = r2_score(y_test, y_pred_test)\n",
    "\n",
    "# Imprimir las métricas de evaluación\n",
    "print(\"Entrenamiento con 'Primary Event Type' y 'Published Status' (Polinómico de Grado 5):\")\n",
    "print(f\"MSE: {mse_train}\")\n",
    "print(f\"MAE: {mae_train}\")\n",
    "print(f\"R2: {r2_train}\")\n",
    "\n",
    "print(\"\\nPrueba con 'Primary Event Type' y 'Published Status' (Polinómico de Grado 5):\")\n",
    "print(f\"MSE: {mse_test}\")\n",
    "print(f\"MAE: {mae_test}\")\n",
    "print(f\"R2: {r2_test}\")\n",
    "\n",
    "# Visualizar los resultados del conjunto de prueba para 'Primary Event Type'\n",
    "plt.scatter(X_test[:, 1], y_test, color='gray', label='Datos de prueba')\n",
    "\n",
    "# Crear un rango de valores para 'Primary Event Type'\n",
    "primary_event_type_range = np.linspace(X_test[:, 1].min(), X_test[:, 1].max(), 100)\n",
    "published_status_mean = np.mean(X['Published Status'])\n",
    "\n",
    "# Crear los datos polinómicos para el rango de 'Primary Event Type' manteniendo 'Published Status' constante\n",
    "X_plot = np.column_stack((primary_event_type_range, np.full(100, published_status_mean)))\n",
    "X_plot_poly = poly_features.transform(X_plot)\n",
    "\n",
    "# Predecir usando el modelo entrenado\n",
    "y_plot_pred = model.predict(X_plot_poly)\n",
    "\n",
    "plt.plot(primary_event_type_range, y_plot_pred, color='red', label='Predicciones')\n",
    "plt.xlabel('Primary Event Type')\n",
    "plt.ylabel('Attendance')\n",
    "plt.title('Predicciones de Attendance usando Primary Event Type (Polinómico de Grado 5)')\n",
    "plt.legend()\n",
    "plt.show()\n"
   ]
  },
  {
   "cell_type": "code",
   "execution_count": 1,
   "metadata": {},
   "outputs": [
    {
     "ename": "NameError",
     "evalue": "name 'data' is not defined",
     "output_type": "error",
     "traceback": [
      "\u001b[0;31m---------------------------------------------------------------------------\u001b[0m",
      "\u001b[0;31mNameError\u001b[0m                                 Traceback (most recent call last)",
      "Cell \u001b[0;32mIn[1], line 7\u001b[0m\n\u001b[1;32m      3\u001b[0m \u001b[38;5;28;01mimport\u001b[39;00m \u001b[38;5;21;01mmath\u001b[39;00m\n\u001b[1;32m      5\u001b[0m \u001b[38;5;66;03m# data es nuestro dataset -> data = pd.read_csv('penguins_binary_classification.csv')\u001b[39;00m\n\u001b[0;32m----> 7\u001b[0m X \u001b[38;5;241m=\u001b[39m \u001b[43mdata\u001b[49m[[\u001b[38;5;124m'\u001b[39m\u001b[38;5;124mbill_length_mm\u001b[39m\u001b[38;5;124m'\u001b[39m,\u001b[38;5;124m'\u001b[39m\u001b[38;5;124mbill_depth_mm\u001b[39m\u001b[38;5;124m'\u001b[39m]]\u001b[38;5;241m.\u001b[39mto_numpy() \u001b[38;5;66;03m# Transformamos el dataset a una matriz Numpy\u001b[39;00m\n",
      "\u001b[0;31mNameError\u001b[0m: name 'data' is not defined"
     ]
    }
   ],
   "source": [
    "import numpy as np\n",
    "import pandas as pd\n",
    "import math\n",
    "\n",
    "# data es nuestro dataset -> data = pd.read_csv('penguins_binary_classification.csv')\n",
    "\n",
    "X = data[['bill_length_mm','bill_depth_mm']].to_numpy() # Transformamos el dataset a una matriz Numpy"
   ]
  },
  {
   "cell_type": "code",
   "execution_count": 2,
   "metadata": {},
   "outputs": [
    {
     "name": "stdout",
     "output_type": "stream",
     "text": [
      "/bin/bash: línea 1: kaggle: orden no encontrada\n"
     ]
    }
   ],
   "source": [
    "!kaggle datasets download -d martaarroyo/palmer-penguins-for-binary-classification"
   ]
  },
  {
   "cell_type": "code",
   "execution_count": 5,
   "metadata": {},
   "outputs": [
    {
     "name": "stdout",
     "output_type": "stream",
     "text": [
      "  species     island  bill_length_mm  bill_depth_mm  flipper_length_mm  \\\n",
      "0  Adelie  Torgersen            39.1           18.7              181.0   \n",
      "1  Adelie  Torgersen            39.5           17.4              186.0   \n",
      "2  Adelie  Torgersen            40.3           18.0              195.0   \n",
      "3  Adelie  Torgersen            36.7           19.3              193.0   \n",
      "4  Adelie  Torgersen            39.3           20.6              190.0   \n",
      "\n",
      "   body_mass_g  year  \n",
      "0       3750.0  2007  \n",
      "1       3800.0  2007  \n",
      "2       3250.0  2007  \n",
      "3       3450.0  2007  \n",
      "4       3650.0  2007  \n"
     ]
    }
   ],
   "source": [
    "# Define the path to your CSV file\n",
    "file_path = 'penguins_binary_classification.csv'\n",
    "\n",
    "# Read the CSV file into a DataFrame\n",
    "df = pd.read_csv(file_path)\n",
    "\n",
    "# Display the first few rows of the DataFrame\n",
    "print(df.head())"
   ]
  },
  {
   "cell_type": "code",
   "execution_count": 6,
   "metadata": {},
   "outputs": [
    {
     "name": "stdout",
     "output_type": "stream",
     "text": [
      "First few rows of the DataFrame:\n",
      "  species     island  bill_length_mm  bill_depth_mm  flipper_length_mm  \\\n",
      "0  Adelie  Torgersen            39.1           18.7              181.0   \n",
      "1  Adelie  Torgersen            39.5           17.4              186.0   \n",
      "2  Adelie  Torgersen            40.3           18.0              195.0   \n",
      "3  Adelie  Torgersen            36.7           19.3              193.0   \n",
      "4  Adelie  Torgersen            39.3           20.6              190.0   \n",
      "\n",
      "   body_mass_g  year  \n",
      "0       3750.0  2007  \n",
      "1       3800.0  2007  \n",
      "2       3250.0  2007  \n",
      "3       3450.0  2007  \n",
      "4       3650.0  2007  \n",
      "\n",
      "Missing values (NaNs) in each column:\n",
      "species              0\n",
      "island               0\n",
      "bill_length_mm       0\n",
      "bill_depth_mm        0\n",
      "flipper_length_mm    0\n",
      "body_mass_g          0\n",
      "year                 0\n",
      "dtype: int64\n",
      "\n",
      "Empty strings in each column:\n",
      "species              0\n",
      "island               0\n",
      "bill_length_mm       0\n",
      "bill_depth_mm        0\n",
      "flipper_length_mm    0\n",
      "body_mass_g          0\n",
      "year                 0\n",
      "dtype: int64\n",
      "\n",
      "Errors in numeric columns:\n",
      "bill_length_mm: 0 errors\n",
      "bill_depth_mm: 0 errors\n",
      "flipper_length_mm: 0 errors\n",
      "body_mass_g: 0 errors\n",
      "year: 0 errors\n",
      "\n",
      "Summary of issues:\n",
      "species: 0 missing, 0 empty, 0 errors\n",
      "island: 0 missing, 0 empty, 0 errors\n",
      "bill_length_mm: 0 missing, 0 empty, 0 errors\n",
      "bill_depth_mm: 0 missing, 0 empty, 0 errors\n",
      "flipper_length_mm: 0 missing, 0 empty, 0 errors\n",
      "body_mass_g: 0 missing, 0 empty, 0 errors\n",
      "year: 0 missing, 0 empty, 0 errors\n"
     ]
    }
   ],
   "source": [
    "import pandas as pd\n",
    "\n",
    "\n",
    "\n",
    "df = pd.read_csv(file_path)\n",
    "\n",
    "# Display the first few rows of the DataFrame\n",
    "print(\"First few rows of the DataFrame:\")\n",
    "print(df.head())\n",
    "\n",
    "# Check for missing values (NaNs)\n",
    "print(\"\\nMissing values (NaNs) in each column:\")\n",
    "print(df.isna().sum())\n",
    "\n",
    "# Check for empty strings\n",
    "print(\"\\nEmpty strings in each column:\")\n",
    "print((df == '').sum())\n",
    "\n",
    "# Check for errors (for simplicity, let's assume errors are non-numeric values in numeric columns)\n",
    "def check_errors(series):\n",
    "    errors = pd.to_numeric(series, errors='coerce').isna() & series.notna()\n",
    "    return errors.sum()\n",
    "\n",
    "print(\"\\nErrors in numeric columns:\")\n",
    "numeric_columns = df.select_dtypes(include=['number']).columns\n",
    "for col in numeric_columns:\n",
    "    print(f\"{col}: {check_errors(df[col])} errors\")\n",
    "\n",
    "# Summary of missing, empty, and error counts\n",
    "print(\"\\nSummary of issues:\")\n",
    "for col in df.columns:\n",
    "    missing_count = df[col].isna().sum()\n",
    "    empty_count = (df[col] == '').sum()\n",
    "    error_count = check_errors(df[col]) if col in numeric_columns else 0\n",
    "    print(f\"{col}: {missing_count} missing, {empty_count} empty, {error_count} errors\")"
   ]
  },
  {
   "cell_type": "code",
   "execution_count": 7,
   "metadata": {},
   "outputs": [
    {
     "name": "stdout",
     "output_type": "stream",
     "text": [
      "Número total de filas: 274\n",
      "Número de filas con valores nulos: 0\n",
      "Porcentaje de filas con valores nulos: 0.00%\n"
     ]
    }
   ],
   "source": [
    "\n",
    "\n",
    "# Verificar el número de filas totales\n",
    "total_rows = df.shape[0]\n",
    "\n",
    "# Verificar cuántas filas contienen valores nulos\n",
    "rows_with_nulls = df.isnull().any(axis=1).sum()\n",
    "\n",
    "# Calcular el porcentaje de filas con valores nulos\n",
    "percentage_rows_with_nulls = (rows_with_nulls / total_rows) * 100\n",
    "\n",
    "print(f\"Número total de filas: {total_rows}\")\n",
    "print(f\"Número de filas con valores nulos: {rows_with_nulls}\")\n",
    "print(f\"Porcentaje de filas con valores nulos: {percentage_rows_with_nulls:.2f}%\")"
   ]
  },
  {
   "cell_type": "code",
   "execution_count": 8,
   "metadata": {},
   "outputs": [
    {
     "name": "stdout",
     "output_type": "stream",
     "text": [
      "Columnas del DataFrame:\n",
      "Index(['species', 'island', 'bill_length_mm', 'bill_depth_mm',\n",
      "       'flipper_length_mm', 'body_mass_g', 'year'],\n",
      "      dtype='object')\n",
      "\n",
      "Columnas y sus tipos de datos:\n",
      "species               object\n",
      "island                object\n",
      "bill_length_mm       float64\n",
      "bill_depth_mm        float64\n",
      "flipper_length_mm    float64\n",
      "body_mass_g          float64\n",
      "year                   int64\n",
      "dtype: object\n"
     ]
    }
   ],
   "source": [
    "# Mostrar las columnas del DataFrame\n",
    "print(\"Columnas del DataFrame:\")\n",
    "print(df.columns)\n",
    "\n",
    "# Mostrar las columnas y sus tipos de datos\n",
    "print(\"\\nColumnas y sus tipos de datos:\")\n",
    "print(df.dtypes)"
   ]
  },
  {
   "cell_type": "code",
   "execution_count": 10,
   "metadata": {},
   "outputs": [
    {
     "name": "stdout",
     "output_type": "stream",
     "text": [
      "Defaulting to user installation because normal site-packages is not writeable\n",
      "Collecting tabulate\n",
      "  Downloading tabulate-0.9.0-py3-none-any.whl (35 kB)\n",
      "Installing collected packages: tabulate\n",
      "Successfully installed tabulate-0.9.0\n"
     ]
    },
    {
     "ename": "NameError",
     "evalue": "name 'tabulate' is not defined",
     "output_type": "error",
     "traceback": [
      "\u001b[0;31m---------------------------------------------------------------------------\u001b[0m",
      "\u001b[0;31mNameError\u001b[0m                                 Traceback (most recent call last)",
      "Cell \u001b[0;32mIn[10], line 18\u001b[0m\n\u001b[1;32m     15\u001b[0m table_data\u001b[38;5;241m.\u001b[39minsert(\u001b[38;5;241m0\u001b[39m, [\u001b[38;5;124m'\u001b[39m\u001b[38;5;124m'\u001b[39m] \u001b[38;5;241m+\u001b[39m \u001b[38;5;28mlist\u001b[39m(descriptive_stats\u001b[38;5;241m.\u001b[39mcolumns)) \u001b[38;5;66;03m# Add headers\u001b[39;00m\n\u001b[1;32m     17\u001b[0m \u001b[38;5;66;03m# Print the table using tabulate\u001b[39;00m\n\u001b[0;32m---> 18\u001b[0m \u001b[38;5;28mprint\u001b[39m(\u001b[43mtabulate\u001b[49m\u001b[38;5;241m.\u001b[39mtabulate(table_data, headers\u001b[38;5;241m=\u001b[39m\u001b[38;5;124m'\u001b[39m\u001b[38;5;124mfirstrow\u001b[39m\u001b[38;5;124m'\u001b[39m, tablefmt\u001b[38;5;241m=\u001b[39m\u001b[38;5;124m'\u001b[39m\u001b[38;5;124mfancy_grid\u001b[39m\u001b[38;5;124m'\u001b[39m))\n",
      "\u001b[0;31mNameError\u001b[0m: name 'tabulate' is not defined"
     ]
    }
   ],
   "source": [
    "try:\n",
    "    import tabulate\n",
    "except ModuleNotFoundError:\n",
    "    !pip install tabulate\n",
    "\n",
    "numeric_columns = df.select_dtypes(include='number')\n",
    "\n",
    "descriptive_stats = numeric_columns.describe()\n",
    "\n",
    "table_data = descriptive_stats.reset_index().values.tolist()\n",
    "table_data.insert(0, [''] + list(descriptive_stats.columns)) # Add headers\n",
    "\n",
    "print(tabulate.tabulate(table_data, headers='firstrow', tablefmt='fancy_grid'))\n"
   ]
  },
  {
   "cell_type": "code",
   "execution_count": 11,
   "metadata": {},
   "outputs": [
    {
     "name": "stdout",
     "output_type": "stream",
     "text": [
      "|       | bill_length_mm   | bill_depth_mm   | flipper_length_mm   | body_mass_g   | year     |\n",
      "|:------|:-----------------|:----------------|:--------------------|:--------------|:---------|\n",
      "| count | 274              | 274             | 274                 | 274           | 274      |\n",
      "| mean  | 42.7029          | 16.8361         | 202.179             | 4318.07       | 2008.04  |\n",
      "| std   | 5.19557          | 2.01341         | 15.0479             | 835.933       | 0.806281 |\n",
      "| min   | 32.1             | 13.1            | 172                 | 2850          | 2007     |\n",
      "| 25%   | 38.35            | 15              | 190                 | 3600          | 2007     |\n",
      "| 50%   | 42               | 17              | 198                 | 4262.5        | 2008     |\n",
      "| 75%   | 46.675           | 18.5            | 215                 | 4950          | 2009     |\n",
      "| max   | 59.6             | 21.5            | 231                 | 6300          | 2009     |\n"
     ]
    }
   ],
   "source": [
    "numeric_columns = df.select_dtypes(include='number')\n",
    "\n",
    "descriptive_stats = numeric_columns.describe()\n",
    "\n",
    "print(descriptive_stats.to_markdown(numalign='left', stralign='left'))\n"
   ]
  },
  {
   "cell_type": "code",
   "execution_count": 20,
   "metadata": {},
   "outputs": [
    {
     "name": "stdout",
     "output_type": "stream",
     "text": [
      "|            | Attendance   |\n",
      "|:-----------|:-------------|\n",
      "| Attendance | 1            |\n"
     ]
    }
   ],
   "source": [
    "import numpy as np\n",
    "\n",
    "numeric_columns = df.select_dtypes(include=np.number)\n",
    "\n",
    "correlation_matrix = numeric_columns.corr()\n",
    "\n",
    "correlation_matrix_rounded = correlation_matrix.round(2)\n",
    "\n",
    "print(correlation_matrix_rounded.to_markdown(numalign='left', stralign='left'))\n"
   ]
  }
 ],
 "metadata": {
  "kernelspec": {
   "display_name": "Python 3",
   "language": "python",
   "name": "python3"
  },
  "language_info": {
   "codemirror_mode": {
    "name": "ipython",
    "version": 3
   },
   "file_extension": ".py",
   "mimetype": "text/x-python",
   "name": "python",
   "nbconvert_exporter": "python",
   "pygments_lexer": "ipython3",
   "version": "3.10.12"
  }
 },
 "nbformat": 4,
 "nbformat_minor": 2
}
