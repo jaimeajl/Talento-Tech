{
 "cells": [
  {
   "cell_type": "code",
   "execution_count": 3,
   "metadata": {},
   "outputs": [
    {
     "name": "stdout",
     "output_type": "stream",
     "text": [
      "Epoch 1/10\n"
     ]
    },
    {
     "name": "stderr",
     "output_type": "stream",
     "text": [
      "c:\\Users\\jaime\\AppData\\Local\\Programs\\Python\\Python312\\Lib\\site-packages\\keras\\src\\layers\\core\\dense.py:87: UserWarning: Do not pass an `input_shape`/`input_dim` argument to a layer. When using Sequential models, prefer using an `Input(shape)` object as the first layer in the model instead.\n",
      "  super().__init__(activity_regularizer=activity_regularizer, **kwargs)\n"
     ]
    },
    {
     "name": "stdout",
     "output_type": "stream",
     "text": [
      "\u001b[1m3/3\u001b[0m \u001b[32m━━━━━━━━━━━━━━━━━━━━\u001b[0m\u001b[37m\u001b[0m \u001b[1m2s\u001b[0m 151ms/step - accuracy: 0.3859 - loss: 0.7641 - val_accuracy: 0.3500 - val_loss: 0.8229\n",
      "Epoch 2/10\n",
      "\u001b[1m3/3\u001b[0m \u001b[32m━━━━━━━━━━━━━━━━━━━━\u001b[0m\u001b[37m\u001b[0m \u001b[1m0s\u001b[0m 26ms/step - accuracy: 0.4156 - loss: 0.7396 - val_accuracy: 0.3500 - val_loss: 0.8126\n",
      "Epoch 3/10\n",
      "\u001b[1m3/3\u001b[0m \u001b[32m━━━━━━━━━━━━━━━━━━━━\u001b[0m\u001b[37m\u001b[0m \u001b[1m0s\u001b[0m 34ms/step - accuracy: 0.4258 - loss: 0.7363 - val_accuracy: 0.3500 - val_loss: 0.8023\n",
      "Epoch 4/10\n",
      "\u001b[1m3/3\u001b[0m \u001b[32m━━━━━━━━━━━━━━━━━━━━\u001b[0m\u001b[37m\u001b[0m \u001b[1m0s\u001b[0m 29ms/step - accuracy: 0.4359 - loss: 0.7297 - val_accuracy: 0.3500 - val_loss: 0.7920\n",
      "Epoch 5/10\n",
      "\u001b[1m3/3\u001b[0m \u001b[32m━━━━━━━━━━━━━━━━━━━━\u001b[0m\u001b[37m\u001b[0m \u001b[1m0s\u001b[0m 29ms/step - accuracy: 0.5117 - loss: 0.7118 - val_accuracy: 0.3500 - val_loss: 0.7824\n",
      "Epoch 6/10\n",
      "\u001b[1m3/3\u001b[0m \u001b[32m━━━━━━━━━━━━━━━━━━━━\u001b[0m\u001b[37m\u001b[0m \u001b[1m0s\u001b[0m 39ms/step - accuracy: 0.4516 - loss: 0.7217 - val_accuracy: 0.3500 - val_loss: 0.7728\n",
      "Epoch 7/10\n",
      "\u001b[1m3/3\u001b[0m \u001b[32m━━━━━━━━━━━━━━━━━━━━\u001b[0m\u001b[37m\u001b[0m \u001b[1m0s\u001b[0m 29ms/step - accuracy: 0.5445 - loss: 0.6934 - val_accuracy: 0.4000 - val_loss: 0.7634\n",
      "Epoch 8/10\n",
      "\u001b[1m3/3\u001b[0m \u001b[32m━━━━━━━━━━━━━━━━━━━━\u001b[0m\u001b[37m\u001b[0m \u001b[1m0s\u001b[0m 26ms/step - accuracy: 0.5586 - loss: 0.6915 - val_accuracy: 0.4000 - val_loss: 0.7539\n",
      "Epoch 9/10\n",
      "\u001b[1m3/3\u001b[0m \u001b[32m━━━━━━━━━━━━━━━━━━━━\u001b[0m\u001b[37m\u001b[0m \u001b[1m0s\u001b[0m 26ms/step - accuracy: 0.5609 - loss: 0.6768 - val_accuracy: 0.4000 - val_loss: 0.7444\n",
      "Epoch 10/10\n",
      "\u001b[1m3/3\u001b[0m \u001b[32m━━━━━━━━━━━━━━━━━━━━\u001b[0m\u001b[37m\u001b[0m \u001b[1m0s\u001b[0m 25ms/step - accuracy: 0.6148 - loss: 0.6648 - val_accuracy: 0.4500 - val_loss: 0.7350\n",
      "\u001b[1m1/1\u001b[0m \u001b[32m━━━━━━━━━━━━━━━━━━━━\u001b[0m\u001b[37m\u001b[0m \u001b[1m0s\u001b[0m 85ms/step - accuracy: 0.4500 - loss: 0.7350\n",
      "Pérdida en el conjunto de prueba: 0.7350476384162903\n",
      "Precisión en el conjunto de prueba: 0.44999998807907104\n"
     ]
    }
   ],
   "source": [
    "\n",
    "import keras\n",
    "from sklearn.datasets import make_classification\n",
    "from sklearn.model_selection import train_test_split\n",
    "\n",
    "# Generar un conjunto de datos de clasificación sintético \n",
    "X, y = make_classification(n_samples=100, n_features=5, n_classes=2)  # Corrección aquí\n",
    "\n",
    "# Dividir los datos en conjuntos de entrenamiento y prueba \n",
    "X_train, X_test, y_train, y_test = train_test_split(X, y, test_size=0.2)  # Corrección (y en minúscula)\n",
    "\n",
    "\n",
    "\n",
    "#Convertir las etiquetas a codificación one-hot\n",
    "y_train_categorical = keras.utils.to_categorical (y_train)\n",
    "y_test_categorical = keras.utils.to_categorical (y_test)\n",
    "\n",
    "#Crear una instancia de un modelo secuencial de Keras \n",
    "model = keras.models.Sequential() \n",
    "\n",
    "\n",
    "# Añadir una capa oculta con 10 neuronas y activación ReLU \n",
    "model.add(keras.layers. Dense (10,input_shape=(X_train.shape[1],), activation='relu'))\n",
    "# Añadir una capa de salida con 2 neuronas (una para cada clase) y activación softmax\n",
    "model.add(keras.layers. Dense (2, activation='softmax'))\n",
    "\n",
    "\n",
    "#Compilar el modelo \n",
    "model.compile (optimizer='adam',loss='categorical_crossentropy', metrics=['accuracy'])\n",
    "\n",
    "#Entrenar el modelo\n",
    "model.fit(X_train, y_train_categorical, epochs=10, batch_size=32, validation_data= (X_test, y_test_categorical))\n",
    "\n",
    "# Evaluar el modelo en el conjunto de prueba\n",
    "loss, accuracy = model.evaluate (X_test, y_test_categorical)\n",
    "\n",
    "print(\"Pérdida en el conjunto de prueba:\", loss) \n",
    "print(\"Precisión en el conjunto de prueba:\", accuracy)"
   ]
  }
 ],
 "metadata": {
  "kernelspec": {
   "display_name": "Python 3",
   "language": "python",
   "name": "python3"
  },
  "language_info": {
   "codemirror_mode": {
    "name": "ipython",
    "version": 3
   },
   "file_extension": ".py",
   "mimetype": "text/x-python",
   "name": "python",
   "nbconvert_exporter": "python",
   "pygments_lexer": "ipython3",
   "version": "3.12.4"
  }
 },
 "nbformat": 4,
 "nbformat_minor": 2
}
