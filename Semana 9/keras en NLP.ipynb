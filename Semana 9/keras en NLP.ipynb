{
 "cells": [
  {
   "cell_type": "code",
   "execution_count": 12,
   "metadata": {},
   "outputs": [
    {
     "name": "stdout",
     "output_type": "stream",
     "text": [
      "word_index = {'hola': 1, 'mundo': 2, 'a': 3, 'todos': 4, 'todo': 5, 'el': 6}\n"
     ]
    }
   ],
   "source": [
    "import tensorflow as tf\n",
    "from tensorflow.keras.preprocessing.text import Tokenizer\n",
    "\n",
    "frases = [\n",
    "    \"Hola mundo\",\n",
    "    \"Hola a todos\",\n",
    "    \"Hola a todo el mundo\"\n",
    "]\n",
    "\n",
    "# Genera el diccionario de tokens\n",
    "tokenizer = Tokenizer(num_words=10)\n",
    "tokenizer.fit_on_texts(frases)\n",
    "word_index = tokenizer.word_index\n",
    "print('word_index =', word_index)\n"
   ]
  },
  {
   "cell_type": "code",
   "execution_count": 13,
   "metadata": {},
   "outputs": [],
   "source": [
    "\n",
    "secuencias = [[1, 2], [1, 3, 4], [1, 3, 5, 6, 2]]"
   ]
  },
  {
   "cell_type": "code",
   "execution_count": 14,
   "metadata": {},
   "outputs": [
    {
     "name": "stdout",
     "output_type": "stream",
     "text": [
      "rellena =\n",
      " [[0 0 0 1 2]\n",
      " [0 0 1 3 4]\n",
      " [1 3 5 6 2]]\n"
     ]
    }
   ],
   "source": [
    "\n",
    "#Rellena las secuencias a una longitud uniforme\n",
    "relleno = keras.preprocessing.sequence.pad_sequences (secuencias) \n",
    "print('rellena =\\n',relleno)"
   ]
  },
  {
   "cell_type": "code",
   "execution_count": 19,
   "metadata": {},
   "outputs": [
    {
     "name": "stdout",
     "output_type": "stream",
     "text": [
      "2.17.0\n"
     ]
    }
   ],
   "source": [
    "import tensorflow as tf\n",
    "print(tf.__version__)\n"
   ]
  },
  {
   "cell_type": "code",
   "execution_count": 22,
   "metadata": {},
   "outputs": [
    {
     "name": "stdout",
     "output_type": "stream",
     "text": [
      "Collecting keras-preprocessing\n",
      "  Downloading Keras_Preprocessing-1.1.2-py2.py3-none-any.whl.metadata (1.9 kB)\n",
      "Requirement already satisfied: numpy>=1.9.1 in c:\\users\\jaime\\appdata\\local\\programs\\python\\python312\\lib\\site-packages (from keras-preprocessing) (1.26.4)\n",
      "Requirement already satisfied: six>=1.9.0 in c:\\users\\jaime\\appdata\\roaming\\python\\python312\\site-packages (from keras-preprocessing) (1.16.0)\n",
      "Downloading Keras_Preprocessing-1.1.2-py2.py3-none-any.whl (42 kB)\n",
      "   ---------------------------------------- 0.0/42.6 kB ? eta -:--:--\n",
      "   ---------------------------------------- 0.0/42.6 kB ? eta -:--:--\n",
      "   ------------------- -------------------- 20.5/42.6 kB ? eta -:--:--\n",
      "   ---------------------------- ----------- 30.7/42.6 kB 325.1 kB/s eta 0:00:01\n",
      "   ---------------------------------------- 42.6/42.6 kB 258.7 kB/s eta 0:00:00\n",
      "Installing collected packages: keras-preprocessing\n",
      "Successfully installed keras-preprocessing-1.1.2\n",
      "Note: you may need to restart the kernel to use updated packages.\n"
     ]
    },
    {
     "name": "stderr",
     "output_type": "stream",
     "text": [
      "\n",
      "[notice] A new release of pip is available: 24.0 -> 24.2\n",
      "[notice] To update, run: python.exe -m pip install --upgrade pip\n"
     ]
    }
   ],
   "source": [
    "pip install keras-preprocessing\n"
   ]
  },
  {
   "cell_type": "code",
   "execution_count": 2,
   "metadata": {},
   "outputs": [],
   "source": [
    "import tensorflow as tf\n",
    "from tensorflow.keras.preprocessing.text import Tokenizer\n",
    "\n",
    "# Rest of your code\n"
   ]
  },
  {
   "cell_type": "code",
   "execution_count": 5,
   "metadata": {},
   "outputs": [
    {
     "name": "stdout",
     "output_type": "stream",
     "text": [
      "\n",
      "word_index = {'hola': 1, 'mundo': 2, 'a': 3, 'todos': 4, 'todo': 5, 'el': 6, 'buen': 7, 'dia': 8, 'como': 9, 'estas': 10, 'hoy': 11}\n",
      "secuencias = [[1, 2], [1, 3, 4], [1, 3, 5, 6, 2], [7, 8, 9]]\n",
      "rellena =\n",
      " [[0 0 0 1 2]\n",
      " [0 0 1 3 4]\n",
      " [1 3 5 6 2]\n",
      " [0 0 7 8 9]]\n"
     ]
    }
   ],
   "source": [
    "import tensorflow as tf\n",
    "from tensorflow.keras.preprocessing.text import Tokenizer\n",
    "\n",
    "frases = [\n",
    "    'Hola mundo',\n",
    "    'Hola a todos',\n",
    "    'Hola a todo el mundo',\n",
    "    'Buen dia, como estas hoy'\n",
    "]\n",
    "\n",
    "# Genera el diccionario de tokens\n",
    "tokenizer = Tokenizer(num_words=10)\n",
    "tokenizer.fit_on_texts(frases)\n",
    "word_index = tokenizer.word_index\n",
    "print('\\nword_index =', word_index)\n",
    "\n",
    "# Generación de secuencia tokenizadas\n",
    "secuencias = tokenizer.texts_to_sequences(frases)\n",
    "print('secuencias =', secuencias)\n",
    "\n",
    "# Rellena las secuencias a una longitud uniforme\n",
    "relleno = tf.keras.preprocessing.sequence.pad_sequences(secuencias)\n",
    "print('rellena =\\n', relleno)\n"
   ]
  },
  {
   "cell_type": "code",
   "execution_count": 10,
   "metadata": {},
   "outputs": [
    {
     "name": "stdout",
     "output_type": "stream",
     "text": [
      "\n",
      "word_index = {'<OOV>': 1, 'hola': 2, 'mundo': 3, 'a': 4, 'todos': 5, 'todo': 6, 'el': 7, 'buen': 8, 'dia': 9, 'como': 10, 'estas': 11, 'hoy': 12}\n",
      "secuencias = [[2, 3], [2, 4, 5], [2, 4, 6, 7, 3], [8, 9, 1, 1, 1]]\n",
      "rellena =\n",
      " [[0 0 0 2 3]\n",
      " [0 0 2 4 5]\n",
      " [2 4 6 7 3]\n",
      " [8 9 1 1 1]]\n"
     ]
    }
   ],
   "source": [
    "import tensorflow as tf\n",
    "from tensorflow.keras.preprocessing.text import Tokenizer\n",
    "\n",
    "frases = [\n",
    "    'Hola mundo',\n",
    "    'Hola a todos',\n",
    "    'Hola a todo el mundo',\n",
    "    'Buen dia, como estas hoy'\n",
    "]\n",
    "#Genera el diccionario de tokens\n",
    "tokenizer = Tokenizer(num_words=10, oov_token=\"<OOV>\")\n",
    "tokenizer.fit_on_texts(frases)\n",
    "word_index = tokenizer.word_index\n",
    "print('\\nword_index =', word_index)\n",
    "#Generacion de secuencia tokenizadas\n",
    "secuencias = tokenizer.texts_to_sequences(frases)\n",
    "print('secuencias =', secuencias)\n",
    "#Rellena las secuencias a una longitud uniforme\n",
    "relleno = tf.keras.preprocessing.sequence.pad_sequences(secuencias)\n",
    "print('rellena =\\n', relleno)\n",
    "\n"
   ]
  },
  {
   "cell_type": "code",
   "execution_count": 14,
   "metadata": {},
   "outputs": [
    {
     "name": "stdout",
     "output_type": "stream",
     "text": [
      "\n",
      "word_index = {'<OOV>': 1, 'hola': 2, 'mundo': 3, 'a': 4, 'todos': 5, 'todo': 6, 'el': 7, 'buen': 8, 'dia': 9, 'como': 10, 'estas': 11, 'hoy': 12}\n",
      "secuencias = [[2, 3], [2, 4, 5], [2, 4, 6, 7, 3], [8, 9, 1, 1, 1]]\n",
      "rellena =\n",
      " [[2 3 0 0 0]\n",
      " [2 4 5 0 0]\n",
      " [2 4 6 7 3]\n",
      " [8 9 1 1 1]]\n"
     ]
    }
   ],
   "source": [
    "import tensorflow as tf\n",
    "from tensorflow.keras.preprocessing.text import Tokenizer\n",
    "\n",
    "frases = [\n",
    "    'Hola mundo',\n",
    "    'Hola a todos',\n",
    "    'Hola a todo el mundo',\n",
    "    'Buen dia, como estas hoy'\n",
    "]\n",
    "#Genera el diccionario de tokens\n",
    "tokenizer = Tokenizer(num_words=10, oov_token=\"<OOV>\")\n",
    "tokenizer.fit_on_texts(frases)\n",
    "word_index = tokenizer.word_index\n",
    "print('\\nword_index =', word_index)\n",
    "#Generacion de secuencia tokenizadas\n",
    "secuencias = tokenizer.texts_to_sequences(frases)\n",
    "print('secuencias =', secuencias)\n",
    "#Rellena las secuencias a una longitud uniforme\n",
    "relleno = tf.keras.preprocessing.sequence.pad_sequences (secuencias,\n",
    "                                                      padding = 'post',\n",
    "                                                       truncating = 'post', )\n",
    "\n",
    "\n",
    "print('rellena =\\n', relleno)\n",
    "\n"
   ]
  },
  {
   "cell_type": "code",
   "execution_count": null,
   "metadata": {},
   "outputs": [],
   "source": []
  }
 ],
 "metadata": {
  "kernelspec": {
   "display_name": "Python 3",
   "language": "python",
   "name": "python3"
  },
  "language_info": {
   "codemirror_mode": {
    "name": "ipython",
    "version": 3
   },
   "file_extension": ".py",
   "mimetype": "text/x-python",
   "name": "python",
   "nbconvert_exporter": "python",
   "pygments_lexer": "ipython3",
   "version": "3.12.4"
  }
 },
 "nbformat": 4,
 "nbformat_minor": 2
}
